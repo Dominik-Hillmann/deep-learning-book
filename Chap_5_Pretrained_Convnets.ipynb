{
 "cells": [
  {
   "cell_type": "markdown",
   "metadata": {},
   "source": [
    "<h1>Pretrained Convnets</h1><br><br>\n",
    "Es ist möglich die Convolutional Base, also die ersten Conv und Max-Pooling-Schichten, bereits tranierter Netze zu nutzen. Auch wenn diese auf anderen Problemen traniert worden sind, dienen diese Schichten als Modell der visuellen Welt und können sich so als nützlich erweisen. Man kann vortrainerte Netze auf zwei Weisen verwenden: Feature Extraction und Fine-Tuning.<br><br>\n",
    "<b>Feature Extraction</b><br>\n",
    "Hier wird die alte Conv-Basis genutzt. Die Dense-Schichten"
   ]
  }
 ],
 "metadata": {
  "kernelspec": {
   "display_name": "Python 3",
   "language": "python",
   "name": "python3"
  },
  "language_info": {
   "codemirror_mode": {
    "name": "ipython",
    "version": 3
   },
   "file_extension": ".py",
   "mimetype": "text/x-python",
   "name": "python",
   "nbconvert_exporter": "python",
   "pygments_lexer": "ipython3",
   "version": "3.6.7"
  }
 },
 "nbformat": 4,
 "nbformat_minor": 2
}
