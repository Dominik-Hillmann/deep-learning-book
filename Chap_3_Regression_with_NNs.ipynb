{
 "cells": [
  {
   "cell_type": "markdown",
   "metadata": {},
   "source": [
    "<h1>Regressionsprobleme mit Neuronalen Netzen</h1><br>\n",
    "Hier warten nun ganz andere Probleme, z.B. unterschiedliche Skalierung der Inputvariablen.<br><br><b>Der Boston Housing Price-Datensatz</b><br>\n",
    "Dieser ist recht klein, 506 Beobachtungen, wobei jedes Feature eine andere Skalierung hat. Die Ziele sind die die Medianwerte der Häuser in Tsd. Dollar."
   ]
  },
  {
   "cell_type": "code",
   "execution_count": 35,
   "metadata": {},
   "outputs": [
    {
     "name": "stdout",
     "output_type": "stream",
     "text": [
      "(404, 13)\n",
      "[  0.67191   0.        8.14      0.        0.538     5.813    90.3\n",
      "   4.682     4.      307.       21.      376.88     14.81   ] \n",
      " 16.6\n"
     ]
    }
   ],
   "source": [
    "from keras.datasets import boston_housing\n",
    "(train_data, train_targets), (test_data, test_targets) = boston_housing.load_data()\n",
    "print(train_data.shape) # 404 Beobachtungen mit 13 Variablen\n",
    "print(train_data[28], '\\n',train_targets[28])"
   ]
  },
  {
   "cell_type": "markdown",
   "metadata": {},
   "source": [
    "Die Daten müssen bei unterschiedlicher Skalierung nicht präpariert werden, indem sie One-Hot-kodiert werden. Hier müssen sie normalisiert werden. Wie bei der Hauptkomponentenanalyse. Dafür gibt es in np-Arrays eingebaute Methoden, die mithilfe von axis = 0 die Statistiken für das jeweilige Feature/die jeweilige Variable finden."
   ]
  },
  {
   "cell_type": "code",
   "execution_count": 36,
   "metadata": {},
   "outputs": [
    {
     "name": "stdout",
     "output_type": "stream",
     "text": [
      "[3.74511057e+00 1.14801980e+01 1.11044307e+01 6.18811881e-02\n",
      " 5.57355941e-01 6.26708168e+00 6.90106436e+01 3.74027079e+00\n",
      " 9.44059406e+00 4.05898515e+02 1.84759901e+01 3.54783168e+02\n",
      " 1.27408168e+01]\n",
      "[  0.67191   0.        8.14      0.        0.538     5.813    90.3\n",
      "   4.682     4.      307.       21.      376.88     14.81   ]\n",
      "[-0.3329834  -0.48361547 -0.43576161 -0.25683275 -0.1652266  -0.64053626\n",
      "  0.76289357  0.4644321  -0.62624905 -0.59517003  1.14850044  0.23508618\n",
      "  0.28557943]\n"
     ]
    }
   ],
   "source": [
    "print(train_data.mean(axis = 0))\n",
    "print(train_data[28])\n",
    "\n",
    "means = train_data.mean(axis = 0)\n",
    "std_deviations = train_data.std(axis = 0)\n",
    "train_data -= means\n",
    "train_data /= std_deviations\n",
    "\n",
    "print(train_data[28])"
   ]
  },
  {
   "cell_type": "markdown",
   "metadata": {},
   "source": [
    "Ein Problem mit kleinen Datensätzen wie diesem hier, dass sie leicht zum Overfitting führen. Um dem etwas entgegenzusetzen, werden relativ kleine Netze verwendet. Das sollte verhindern, dass sich ein zu großes Netz auf die nicht-generalisierbaren Eigenheiten der Trainingsdaten einpendeln."
   ]
  },
  {
   "cell_type": "code",
   "execution_count": 37,
   "metadata": {},
   "outputs": [],
   "source": [
    "from keras import models\n",
    "from keras import layers\n",
    "\n",
    "def build_model():\n",
    "    # will have multiple instances, that's why we use a function\n",
    "    model = models.Sequential()\n",
    "    model.add(layers.Dense(\n",
    "        64, activation = 'relu', \n",
    "        input_shape = (train_data.shape[1], )\n",
    "    ))\n",
    "    model.add(layers.Dense(64, activation = 'relu'))\n",
    "    model.add(layers.Dense(1))\n",
    "    \n",
    "    model.compile(\n",
    "        optimizer = 'rmsprop',\n",
    "        loss = 'mse',\n",
    "        metrics = ['mae']\n",
    "    )\n",
    "    \n",
    "    return model"
   ]
  },
  {
   "cell_type": "markdown",
   "metadata": {},
   "source": [
    "Die letzte Schicht endet mit einem einzelnen Neuron und ohne Aktivierungsfunktion, ist also linear, da uns ja der uneingeschränkte Outputwert, also der vorausgesagte Wert des Hauses, interessiert. Würdest du z.B. die Sigmoid über das letzte Neuron legen, würden die linearen Werten auf [0,1] abgebildet werden. Ist nicht unser Ziel. Die Loss Function ist nun der MSE, Mean Squared Error, die quadrierte Differenz zwischen dem Ziel und dem vorausgesagten Wert. Der beobachtete Kennwert ist MAE, mean absolute error, also der nicht-quadrierte MSE, einfach nur die Abweichung Ziel <=> Voraussage."
   ]
  },
  {
   "cell_type": "markdown",
   "metadata": {},
   "source": [
    "<b>K-Fold-Validation</b><br><br>\n",
    "Wenn Datensätze bereits klein sind, kann ein weiteres Aussieben der Validierungsdaten dem Modell nur schaden, weil das Ergebnis sehr davon abhängig ist, welche wenige Datenpunkte noch über sind.<br>\n",
    "Darum wird diese Technik genutzt. Die Daten werden in k Teile partitioniert. Es werden k Modelle trainiert auf k - 1 Teilen, wobei 1 Teil der Validierung dient."
   ]
  },
  {
   "cell_type": "code",
   "execution_count": 38,
   "metadata": {},
   "outputs": [
    {
     "name": "stdout",
     "output_type": "stream",
     "text": [
      "101\n",
      "Processing fold 1.\n",
      "303 101\n",
      "Processing fold 2.\n",
      "303 101\n",
      "Processing fold 3.\n",
      "303 101\n",
      "Processing fold 4.\n",
      "303 101\n"
     ]
    }
   ],
   "source": [
    "import numpy as np\n",
    "\n",
    "k = 4\n",
    "print(int(len(train_data) / k))\n",
    "num_val_samples = int(len(train_data) / k)\n",
    "num_epochs = 100\n",
    "all_scores = []\n",
    "\n",
    "for i in range(k):\n",
    "    print('Processing fold ' + str(i + 1) + '.')\n",
    "    # Daten, von : bis\n",
    "    val_data = train_data[i * num_val_samples : (i + 1) * num_val_samples]\n",
    "    val_targets = train_targets[i * num_val_samples : (i + 1) * num_val_samples]\n",
    "    \n",
    "    partial_train_data = np.concatenate([\n",
    "        train_data[:i * num_val_samples],      # alles vor Validierungsdaten\n",
    "        train_data[(i + 1) * num_val_samples:] # alles nach Validierungsdaten\n",
    "    ], axis = 0)\n",
    "    \n",
    "    partial_train_targets = np.concatenate([\n",
    "        train_targets[:i * num_val_samples],      # alles vor Validierungsdaten\n",
    "        train_targets[(i + 1) * num_val_samples:] # alles nach Validierungsdaten\n",
    "    ], axis = 0)\n",
    "    \n",
    "    print(len(partial_train_data), len(val_data))\n",
    "    \n",
    "    model = build_model()\n",
    "    model.fit(\n",
    "        np.array(partial_train_data),\n",
    "        np.array(partial_train_targets),\n",
    "        epochs = num_epochs,\n",
    "        batch_size = 1,\n",
    "        verbose = 0\n",
    "    )\n",
    "    \n",
    "    (mse, mae) = model.evaluate(x = val_data, y = val_targets, verbose = 0)\n",
    "    print('MAE:', mae)\n",
    "    all_scores.append(mae)\n",
    "    "
   ]
  },
  {
   "cell_type": "code",
   "execution_count": 39,
   "metadata": {},
   "outputs": [
    {
     "name": "stdout",
     "output_type": "stream",
     "text": [
      "[2.063244300313515, 2.2822579416898217, 2.947527550234653, 2.378170597671282] 2.417800097477318\n",
      "$5000 bis $50000\n"
     ]
    }
   ],
   "source": [
    "print(all_scores, np.mean(all_scores))\n",
    "# Ein MAE von 2.42 bedeutet, dass durchschnittlich noch $2400 Fehler existiert,\n",
    "# was viel ist bei Preisen von\n",
    "print(\n",
    "    '$' + str(int(min(train_targets)) * 1000), \n",
    "    'bis',\n",
    "    '$' + str(int(max(train_targets))* 1000)\n",
    ")"
   ]
  },
  {
   "cell_type": "markdown",
   "metadata": {},
   "source": [
    "Nun optimieren wir die Schleife ein wenig. Zum einen lassen wir sie nun 500 Epochen laufen, also 500 Durchläufe durch die Trainingsdaten: 500 Mal mit jeder Aufteilung Validierung/Trainigsdaten. Wir wollen uns nun aber anschauen, wann der Fehler für die Validierungsdaten in Abhängigkeit von der aktuellen Epoche minimiert wird."
   ]
  },
  {
   "cell_type": "code",
   "execution_count": 40,
   "metadata": {},
   "outputs": [
    {
     "name": "stdout",
     "output_type": "stream",
     "text": [
      "Processing fold 1.\n",
      "303 101\n",
      "Processing fold 2.\n",
      "303 101\n",
      "Processing fold 3.\n",
      "303 101\n",
      "Processing fold 4.\n",
      "303 101\n"
     ]
    }
   ],
   "source": [
    "k = 4\n",
    "num_val_samples = int(len(train_data) / k)\n",
    "num_epochs = 1500\n",
    "all_mae_hists = []\n",
    "\n",
    "for i in range(k):\n",
    "    print('Processing fold ' + str(i + 1) + '.')\n",
    "    # Daten, von : bis\n",
    "    val_data = train_data[i * num_val_samples : (i + 1) * num_val_samples]\n",
    "    val_targets = train_targets[i * num_val_samples : (i + 1) * num_val_samples]\n",
    "    \n",
    "    partial_train_data = np.concatenate([\n",
    "        train_data[:i * num_val_samples],      # alles vor Validierungsdaten\n",
    "        train_data[(i + 1) * num_val_samples:] # alles nach Validierungsdaten\n",
    "    ], axis = 0)\n",
    "    \n",
    "    partial_train_targets = np.concatenate([\n",
    "        train_targets[:i * num_val_samples],      # alles vor Validierungsdaten\n",
    "        train_targets[(i + 1) * num_val_samples:] # alles nach Validierungsdaten\n",
    "    ], axis = 0)\n",
    "    \n",
    "    print(len(partial_train_data), len(val_data))\n",
    "    \n",
    "    model = build_model()\n",
    "    hist = model.fit(\n",
    "        np.array(partial_train_data),\n",
    "        np.array(partial_train_targets),\n",
    "        epochs = num_epochs,\n",
    "        batch_size = 1,\n",
    "        verbose = 0\n",
    "    )\n",
    "    \n",
    "    all_mae_hists.append(hist.history)"
   ]
  },
  {
   "cell_type": "code",
   "execution_count": 41,
   "metadata": {},
   "outputs": [
    {
     "name": "stdout",
     "output_type": "stream",
     "text": [
      "4\n",
      "dict_keys(['loss', 'mean_absolute_error'])\n",
      "4 1500\n"
     ]
    }
   ],
   "source": [
    "print(len(all_mae_hists))\n",
    "print(all_mae_hists[0].keys())\n",
    "mae_means = [all_mae_hists[i]['mean_absolute_error'] for i in range(len(all_mae_hists))]\n",
    "print(len(mae_means), len(mae_means[0]))\n",
    "# also 4 Folds, mit je dem MAE der 300 Epochen\n",
    "# Wir bilden den Durchschnitt der 4 Folds über die 300 Epochen\n",
    "\n",
    "mae_fold_means = [\n",
    "    np.mean([mae[i] for mae in mae_means]) \n",
    "    for i in range(num_epochs)\n",
    "]"
   ]
  },
  {
   "cell_type": "code",
   "execution_count": 42,
   "metadata": {},
   "outputs": [
    {
     "data": {
      "image/png": "[encoded data removed]",
      "text/plain": [
       "<Figure size 432x288 with 1 Axes>"
      ]
     },
     "metadata": {
      "needs_background": "light"
     },
     "output_type": "display_data"
    }
   ],
   "source": [
    "# nun machen wir Plots daraus\n",
    "import matplotlib.pyplot as plot\n",
    "\n",
    "plot.plot(range(1, len(mae_fold_means) + 1), mae_fold_means)\n",
    "plot.xlabel('Epoches')\n",
    "plot.ylabel('Mean MAE over folds')\n",
    "plot.show()\n",
    "\n",
    "# villeicht ist das die MAE für Traniningsdaten?"
   ]
  }
 ],
 "metadata": {
  "kernelspec": {
   "display_name": "Python 3",
   "language": "python",
   "name": "python3"
  },
  "language_info": {
   "codemirror_mode": {
    "name": "ipython",
    "version": 3
   },
   "file_extension": ".py",
   "mimetype": "text/x-python",
   "name": "python",
   "nbconvert_exporter": "python",
   "pygments_lexer": "ipython3",
   "version": "3.6.7"
  }
 },
 "nbformat": 4,
 "nbformat_minor": 2
}
