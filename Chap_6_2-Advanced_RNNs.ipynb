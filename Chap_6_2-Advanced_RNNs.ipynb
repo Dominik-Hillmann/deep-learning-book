{
 "cells": [
  {
   "cell_type": "markdown",
   "metadata": {},
   "source": [
    "# Fortgeschrittene Konzepte für RNNs\n",
    "## GRU-Schichten\n",
    "GRU (Gated Recurrent Unit)-Schichten erfüllen diesselbe Funktion wie eine LSTM-Schicht: sie lassen den Fluss von Informationen aus weit vorangegangen Perioden gewichtet zu.\n",
    "\n",
    "Der Unterschied ist, dass sie weniger Rechenleistung benötigen, was mit einer kleineren Repäsentationskraft bezahlt wird\n",
    "\n",
    "## Recurrent Dropout\n",
    "In der Forschung schien sich zunächst abzubilden, dass Dropout in RNNs eher hinderlich als hilfreich ist. Wird allerdings das gleiche Muster an Dropout auf jede Schicht angewandt, so ändert sich das. So sollte auch das gleiche Muster in allen Matrizen innerhalb einer RNN-Schicht verwendet werden. Dies lässt sich so codieren:"
   ]
  },
  {
   "cell_type": "code",
   "execution_count": null,
   "metadata": {},
   "outputs": [],
   "source": [
    "from tensorflow.keras.models import Sequential\n",
    "from tensorflow.keras.layers import GRU\n",
    "model = Sequential()\n",
    "# ...\n",
    "model.add(GRU(\n",
    "    32, \n",
    "    dropout = 0.2,\n",
    "    recurrent_dropout = 0.2,\n",
    "    input_shape = (None, data.shape[-1])\n",
    "))\n",
    "# ..."
   ]
  },
  {
   "cell_type": "markdown",
   "metadata": {},
   "source": [
    "## Mehrere RNN-Schichten hintereinander\n",
    "Um das zu tun, müssen alle Schichten, die nicht ganz oben liegen `return_sequences = True` aktiviert haben. Es ist ein guter Weg, um ein Netz zu erweitern, um es an die Grenzen des Overfitting zu bringen, und so mehr Repräsentationskraft zu finden."
   ]
  }
 ],
 "metadata": {
  "kernelspec": {
   "display_name": "Python 3",
   "language": "python",
   "name": "python3"
  },
  "language_info": {
   "codemirror_mode": {
    "name": "ipython",
    "version": 3
   },
   "file_extension": ".py",
   "mimetype": "text/x-python",
   "name": "python",
   "nbconvert_exporter": "python",
   "pygments_lexer": "ipython3",
   "version": "3.6.8"
  }
 },
 "nbformat": 4,
 "nbformat_minor": 2
}
