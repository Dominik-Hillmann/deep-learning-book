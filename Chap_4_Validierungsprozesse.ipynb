{
 "cells": [
  {
   "cell_type": "markdown",
   "metadata": {},
   "source": [
    "<h1>Validierungsprozesse</h1><br><br>\n",
    "<b>Einfaches Vorenthalten der Validierungsdaten</b><br>\n",
    "1. Mischhe die Daten, nur, wenn die Reihenfolge unwichtig ist.<br>\n",
    "2. Trenne Trainings-, Validierungs- und Testdatensatz voneinander.<br>\n",
    "3. Traniere das Modell auf den Trainingdaten, passe die Hyperparameter gemäß der Performance auf den Validierungsdaten an.<br>\n",
    "4. Traniere das beste Modell schlussendlich auf den Tranings- und Validierungsdaten und teste die Performance auf den Testdaten.<br><br>\n",
    "<b>k-fache Validierung</b><br>\n",
    "Wenn nur wenig Daten vorhanden sind kann es sein, dass ein Modell völlig unterschiedlich bewertet wird, weil der Validierungsdatensatz nicht repräsentativ ist. In diesmem Falle unterteilst du deinen Datensatz in k, meist drei bis fünf, gleich große Teile. Du trainierst das Modell k mal, wobei jedes Mal ein (!) anderer Teil den Validierungsdatensatz darstellt und der Rest die Trainingsdaten. Deine Performance auf dem Validierungsdatensatz ist durchschnittliche Performance der k Durchläufe.<br><br>\n",
    "<b>Iterierte k-fache Validierung</b><br>\n",
    "Wenn das Modell so präzise wie möglich bewertet werden soll, führst du zusätzlich p Iterationen durch. Dabei wird der Datensatz in jedem der p Durchläufe neu gemischt. Die Performance ist dann der Durchschnitt aller p * k Durchläufe."
   ]
  }
 ],
 "metadata": {
  "kernelspec": {
   "display_name": "Python 3",
   "language": "python",
   "name": "python3"
  },
  "language_info": {
   "codemirror_mode": {
    "name": "ipython",
    "version": 3
   },
   "file_extension": ".py",
   "mimetype": "text/x-python",
   "name": "python",
   "nbconvert_exporter": "python",
   "pygments_lexer": "ipython3",
   "version": "3.6.7"
  }
 },
 "nbformat": 4,
 "nbformat_minor": 2
}
