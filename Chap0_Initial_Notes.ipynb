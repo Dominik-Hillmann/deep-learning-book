{
 "cells": [
  {
   "cell_type": "markdown",
   "metadata": {},
   "source": [
    "<img src=\"./imgs/AI_Unterordnung.jpg\">\n",
    " Künstliche Intelligenz besteht nicht nur aus dem Methoden des Maschinellen Lernens. Als mit der Forschung zur künstlichen begonnen worden ist, glaubte man, es genüge ausreichend viele, hart einprogrammierte Regeln für ein System aufstellen zu können, damit intelligente Verhaltensweisen entstehen. Das ist leider nicht passiert (\"KI-Winter\"). Neue Herangehensweisen versuchen nicht Regeln von Anfang an aufzustellen, sondern sie aus der Umgebung, also den gesammelten Daten, abzuleiten.\n",
    "<br><br><b>Machine Learning</b>\n",
    "<img src=\"./imgs/Machine_Learning_Paradigm.jpg\">\n",
    "Wo klassische Programmierung auf Inputdaten mithilfe vom Programmierer aufgestellten Regeln Antworten gibt, muss ein Machine Learning-Modell trainiert werden. Das heißt, dass das Modell Regeln finden muss, die die Antworten gegeben der Inputdaten möglichst genau vorhersagen. Abhängig vom genutzten Modell, muss also eine Repräsentation der Daten gefunden werden. Daher kommt der Begriff des Lernens: genau so, wie Kinder nicht Mathematik lernen, indem man sie alle möglichen Matheaufgaben auswendig lernen lässt, lässt man sie genügend Aufgaben lösen, bis sie verstehen, nach welcher Regel die Antworten abgeleitet werden. Diese Regel können die Kinder darauf auf alle unbekannten Matheaufgaben anwenden, ohne sie vorher je gesehen zu haben. Sie lernen. Genau so funktionert Machine Learning: Die Maschine findet eine vereinfachte Repräsentation der Daten mit den Möglichkeiten des angewandten Modells.\n",
    "<br><br><b>Deep Learning</b><br>\n",
    "Deep Learning ist Teil des Machine Learning und beschreibt Modelle, die mehrere, hintereinander geschaltete Repräsentationen der Daten nutzen. Die Anzahl dieser Schichten wird auch <i>Tiefe</i> des Modells genannt. Das beste Beispiel für ein Deep Learning-Modell ist ein neuronales Netzwerk, das in mehreren hintereinander geschalteten Schichten Signale an die jeweils nächste Schichte gibt, abhängig von den Gewichten und Signalen der vorhergehenden Schicht. Diese werden der Fokus des Buches sein."
   ]
  },
  {
   "cell_type": "markdown",
   "metadata": {},
   "source": [
    "<b>Grundfunktionsweise eines Neuronalen Netzwerks</b><br>\n",
    "<img src=\"./imgs/Funktionsweise_NN.jpg\"><br>\n",
    "Die vorher beschriebene vereinfachte Repräsentation der Daten befindet sich in den Gewichten einer jeden Schicht. Die Gewichte bestimmen, wie stark die Signale sind, die an die nächste Schicht weitergetragen werden. Mithilfe diser Repräsentation lassen sich Vorhersagen machen. Diese werden mit den richtigen Antworten auf die Inputdaten verglichen. Gemäß des Unterschieds zwischen der Vorhersage und der richtigen Antwort rechnet eine Loss Function einen Loss Score für die Vorhersage aus. Der Loss Score wird darauf vom Optimizer genutzt, die Gewichte anzupassen und so hoffentlich genauere Vorhersagen zu ermöglichen. Dieser Vorgang wird <i>Backpropagation Algorithmus</i> genannt."
   ]
  },
  {
   "cell_type": "markdown",
   "metadata": {},
   "source": [
    "<b>Drei Gründe, warum Machine Learning jetzt einen Aufschwung erlebt</b><br>\n",
    "1. Moore's law: Die Operationen, besonders die für ein NN sind viele gleiche, parallele Operationen. Genau diese Art von Befehlen können Grafikkarten/GPUs gut ausführen, deren Leistungsfähigkeit immer weiter wächst.\n",
    "2. Daten: Durch das Internet können erst seit kurzem ausreichend große Datensätze erstellt werden, um die Modelle zu trainieren. Bsp.: Bilder und ihre Tags auf Flickr.\n",
    "3. Algorithmen: 2009 und 2010 fanden kleine, aber wichtige Verbesserungen des Backpropagation Algorithmus statt. So z.B. verschiede Aktivierungsfunktionen für eine neuronale Schicht, bessere Optimierer für die Gewichte und bessere Wege, die Gewichte vor dem Training zu initialisieren."
   ]
  }
 ],
 "metadata": {
  "kernelspec": {
   "display_name": "Python 3",
   "language": "python",
   "name": "python3"
  },
  "language_info": {
   "codemirror_mode": {
    "name": "ipython",
    "version": 3
   },
   "file_extension": ".py",
   "mimetype": "text/x-python",
   "name": "python",
   "nbconvert_exporter": "python",
   "pygments_lexer": "ipython3",
   "version": "3.6.6"
  }
 },
 "nbformat": 4,
 "nbformat_minor": 2
}
