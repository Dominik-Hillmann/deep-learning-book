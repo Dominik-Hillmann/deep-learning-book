{
 "cells": [
  {
   "cell_type": "markdown",
   "metadata": {},
   "source": [
    "<b>Welche drei Arten von Problemen lassen sich mit Künstlichen Neuronalen Netzen lösen?</b><br>\n",
    "1. Binäre Klassifikation\n",
    "2. Klassifikation in > 2 Klassen\n",
    "3. Klassische Regressionsprobleme (also mit einem kontinuierlichem Output)\n"
   ]
  },
  {
   "cell_type": "markdown",
   "metadata": {},
   "source": [
    "<b>Schichten: die wichtigsten Datenstrukturen für NNs</b><br><br>\n",
    "Schichten beinhalten die Gewichte eines neuronalen Netuwerks, welche wiederrum sein Wissen repräsentieren. Einfache Daten, die in einem einfachem Tensor (Dimensionen <code>(Anzahl Beobachtungen, Anzahl Merkmale)</code>) gespeichert werden, werden von einer <i>dicht vernetzten</i> Schicht verarbeitet, siehe <code>layers.Dense(...)</code>.<br>Daten die in Zeitschritte beinhalten (<code>(#Beobachtungen, #Zeitschritte, #Merkmale)</code>) werden von rekurrenten Schichten verarbeitet, <code>layers.LSTM(...)</code>. Daten ein 4D-Tensors werden von 2D-Convolution-Schichten verarbeitet: <code>layers.conv2D(...)</code>.<br>\n",
    "1. einfache Matrizen --> <code>layers.Dense</code>\n",
    "2. 3D-Daten, Daten mit Zeitschritten --> <code>layers.LSTM</code>\n",
    "3. 4D-Daten, also Bilder --> <code>layers.conv2D</code>"
   ]
  },
  {
   "cell_type": "code",
   "execution_count": 3,
   "metadata": {},
   "outputs": [],
   "source": [
    "from keras import layers\n",
    "from keras import models\n",
    "\n",
    "model = models.Sequential()\n",
    "model.add(layers.Dense(32, input_shape = (784, )))\n",
    "model.add(layers.Dense(32))"
   ]
  },
  {
   "cell_type": "markdown",
   "metadata": {},
   "source": [
    "<code>models.Sequential()</code> bedeutet, dass ein Modell gebaut wird, dessen Topologie nur aus einen Weg aufeinanderfolgender Schichten besteht. Dazu gibt es im späteren Verlauf auch Alternativen.<br>Der Bau der Schichten richtet sich nach einem methodischen Prozess. Die Auswahl richtiger Schichten ist momentan eher auf Erfahrung als auf Wissen beruhend. Das soll nicht heißen, dass es keine groben best-practices gibt."
   ]
  },
  {
   "cell_type": "markdown",
   "metadata": {},
   "source": [
    "<b>Loss functions und Optimierer</b><br><br>\n",
    "Die Loss function oder die Zielfunktion ist die Funktion, die den Unterschied zwischen dem vorhergesagten Wert und dem wahren Wert berechnet und optimiert. Nach diesem Wert verändert der Optimierer die Gewichte der Schichten. Eine Zielfunktion muss bedacht gewählt werden, denn das Netz wird jede Abkürzung nutzen, diesen Wert zu minimieren, was zu unvorhersehbarem Verhalten führen kann."
   ]
  },
  {
   "cell_type": "markdown",
   "metadata": {},
   "source": [
    "<b>Schritte in der Entwicklung eines Künstlichen Neuronalen Netzes</b><br>\n",
    "1. Definiere die Inputdaten und die Ziele: X und y\n",
    "2. Definiere die Schichten des Modells\n",
    "3. Konfiguriere die Zielfunktion, den Optimierer und die zu beobachtenden Werte\n",
    "4. Trainiere das Modell durch den Aufruf von <code>model.fit(...)</code>"
   ]
  },
  {
   "cell_type": "code",
   "execution_count": null,
   "metadata": {
    "collapsed": true
   },
   "outputs": [],
   "source": []
  }
 ],
 "metadata": {
  "kernelspec": {
   "display_name": "Python 3",
   "language": "python",
   "name": "python3"
  },
  "language_info": {
   "codemirror_mode": {
    "name": "ipython",
    "version": 3
   },
   "file_extension": ".py",
   "mimetype": "text/x-python",
   "name": "python",
   "nbconvert_exporter": "python",
   "pygments_lexer": "ipython3",
   "version": "3.6.7"
  }
 },
 "nbformat": 4,
 "nbformat_minor": 2
}
