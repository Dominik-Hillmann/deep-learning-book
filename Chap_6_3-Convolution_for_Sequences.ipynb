{
 "cells": [
  {
   "cell_type": "markdown",
   "metadata": {},
   "source": [
    "# Convolution für Sequenzen\n",
    "So wie die Convolution Muster aus einer 2D-Matrix ziehen kann, kann sie dies auch im 1D-Fall tun. Wird eine Sequenz, wie z.B. ein Text auch lokale Muster erkennen, indem der zuvor zweidimensionale Filter nun wie ein Fenster über die numerischen Werte der Sequenz läuft. Die `MaxPooling`-Operation funktioniert analog zum Fall in zwei Dimensionen.\n",
    "\n",
    "## Implementierung\n",
    "`Conv1D` nimmt Tensoren der Form `(n_samples, n_timesteps, n_features)` und gibt gleichartig geformte Werte zurück. Das Convolution-Fenster ist ein Fenster, das über die Zeitachse läuft. Ein wichtiger Unterschied ist zudem, dass die Convolutionfenster größer sein können, da im 2D-Fall $3 * 3 = 9$ sind hier Fenster möglich, die 7 oder 9 Elemente groß sind. "
   ]
  },
  {
   "cell_type": "code",
   "execution_count": 6,
   "metadata": {},
   "outputs": [
    {
     "name": "stdout",
     "output_type": "stream",
     "text": [
      "Model: \"sequential_5\"\n",
      "_________________________________________________________________\n",
      "Layer (type)                 Output Shape              Param #   \n",
      "=================================================================\n",
      "embedding_5 (Embedding)      (None, 1000, 128)         4096      \n",
      "_________________________________________________________________\n",
      "conv1d_10 (Conv1D)           (None, 994, 32)           28704     \n",
      "_________________________________________________________________\n",
      "max_pooling1d_5 (MaxPooling1 (None, 198, 32)           0         \n",
      "_________________________________________________________________\n",
      "conv1d_11 (Conv1D)           (None, 192, 32)           7200      \n",
      "_________________________________________________________________\n",
      "global_max_pooling1d_5 (Glob (None, 32)                0         \n",
      "_________________________________________________________________\n",
      "dense_5 (Dense)              (None, 1)                 33        \n",
      "=================================================================\n",
      "Total params: 40,033\n",
      "Trainable params: 40,033\n",
      "Non-trainable params: 0\n",
      "_________________________________________________________________\n",
      "None\n"
     ]
    }
   ],
   "source": [
    "from tensorflow.keras.models import Sequential\n",
    "from tensorflow.keras.layers import Embedding, Conv1D, MaxPooling1D, GlobalMaxPooling1D, Dense\n",
    "from tensorflow.keras.optimizers import RMSprop\n",
    "\n",
    "max_features = 32\n",
    "max_len = 1000\n",
    "\n",
    "model = Sequential()\n",
    "model.add(Embedding(max_features, 128, input_length = max_len))\n",
    "model.add(Conv1D(32, 7, activation = 'relu'))\n",
    "model.add(MaxPooling1D(5))\n",
    "model.add(Conv1D(32, 7, activation = 'relu'))\n",
    "model.add(GlobalMaxPooling1D())\n",
    "model.add(Dense(1))\n",
    "\n",
    "print(model.summary())"
   ]
  },
  {
   "cell_type": "markdown",
   "metadata": {},
   "source": [
    "## Kombination von RNNs und CNNs für lange Sequenzen\n",
    "Eine weitere Möglichkeit ist die gemeinsame Nutzung der beiden Modelltypen. Da CNNs lokale Muster feststellen kann, also nicht über ein Fenster hinaus empfindlich für Reihenfolge ist, können RNN-Schichten auf die high-level-Repräsentationen angewandt werden. Somit wird die Schnelligkeit der CNNs mit der Empfindlichkeit der Reihenfolge für RNNs kombiniert. Die CNN-Schichten dienen als Preprocessing der RNN-Schichten, die so kürzere Sequenzen zu verarbeiten haben."
   ]
  }
 ],
 "metadata": {
  "kernelspec": {
   "display_name": "Python 3",
   "language": "python",
   "name": "python3"
  },
  "language_info": {
   "codemirror_mode": {
    "name": "ipython",
    "version": 3
   },
   "file_extension": ".py",
   "mimetype": "text/x-python",
   "name": "python",
   "nbconvert_exporter": "python",
   "pygments_lexer": "ipython3",
   "version": "3.6.8"
  }
 },
 "nbformat": 4,
 "nbformat_minor": 2
}
