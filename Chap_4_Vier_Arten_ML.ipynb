{
 "cells": [
  {
   "cell_type": "markdown",
   "metadata": {},
   "source": [
    "<h1>Die Vier Unterkategorien des Machine Learning</h1><br><br>\n",
    "<b>1. Supervised Learning</b><br>\n",
    "Das ist die Unterart, die am weitesten verbreitet ist. Ihr sind alle Methoden zuzuorden, die Regeln für ein möglichst genaues Mapping von X auf y erzeugen, das auf unbekannte Daten generalisierbar ist. Es wird 'supervised' genannt, weil die Targets - y - zu aller erst von Menschen zugeordnet werden mussten, es war also ein menschlicher Supervisor im Prozess. Ihr sind die bisher bekannten Probleme binäre Klassifikation, Regression und der Multiklassenklassifikation zuzuorden. Weiterhin gibt es Sequence generation (Annotieren von Bildern), object detection (Erkennen der Position bestimmter Objekte im Bild), etc.<br><br>\n",
    "<b>2. Unsupervised Learning</b><br>\n",
    "Hier sind die Targets nicht bekannt und es wird lediglich nach interessanten Transformationen der Inputdaten X gesucht. Beispielsweise das Finden von Gruppen von Datenpunkten in X, die einander sehr ähnlich sind.<br><br>\n",
    "<b>3. Self-Supervised Learning</b><br>\n",
    "funktioniert wie (1), bloß gibt es kein Y, das das Modell voraussagen muss. Anstatt dessen wird ein Wert anhand der Sequenz vor ihm vorausgesagt. Beispielsweise ein Wort in einem Text anhand der Wörter zuvor. Oder ein Frame in einem Video anhand der Frames zuvor.<br><br>\n",
    "<b>4. Reinforcement Learning</b><br>\n",
    "Hier erhält ein Agent Informationen über seine Umgebung. Er wird belohnt, wenn er die gewünschte Aktion durchführt und bestraft, wenn nicht. So soll sich das gewünschte Verhalten entwicklen."
   ]
  }
 ],
 "metadata": {
  "kernelspec": {
   "display_name": "Python 3",
   "language": "python",
   "name": "python3"
  },
  "language_info": {
   "codemirror_mode": {
    "name": "ipython",
    "version": 3
   },
   "file_extension": ".py",
   "mimetype": "text/x-python",
   "name": "python",
   "nbconvert_exporter": "python",
   "pygments_lexer": "ipython3",
   "version": "3.6.7"
  }
 },
 "nbformat": 4,
 "nbformat_minor": 2
}
